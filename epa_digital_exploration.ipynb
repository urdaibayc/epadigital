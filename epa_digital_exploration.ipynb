{
 "cells": [
  {
   "cell_type": "markdown",
   "metadata": {},
   "source": [
    "# EPA.Digital\n",
    "\n",
    "Answer the following questions:\n",
    "\n",
    "* Internal\n",
    "    - Summarize the Sponsorship & create SubSponsorship (ex: “diamante fijo” cat:“diamante” subCat: “fijo”) without deleting the Sponsorship\n",
    "    - Top best/worst sponsorship performace & why?\n",
    "    - Which brand should downgrade/upgrade account according to the cost?\n",
    "\n",
    "    * Medium\n",
    "        - Which menu performs better and why?\n",
    "\n",
    "* External\n",
    "    - A brand wants to see their data and performance in a dashboard (products & dimensions)"
   ]
  },
  {
   "cell_type": "code",
   "execution_count": 1,
   "metadata": {},
   "outputs": [],
   "source": [
    "import pandas as pd"
   ]
  },
  {
   "cell_type": "code",
   "execution_count": 2,
   "metadata": {},
   "outputs": [],
   "source": [
    "sponsorship = pd.read_csv('epa_data_analyst_sponsorship.csv')\n",
    "data = pd.read_csv('epa_data_analyst_raw.csv')"
   ]
  },
  {
   "cell_type": "markdown",
   "metadata": {},
   "source": [
    "### Summarize the Sponsorship & create SubSponsorship"
   ]
  },
  {
   "cell_type": "code",
   "execution_count": 3,
   "metadata": {},
   "outputs": [],
   "source": [
    "sponsorship_splited = [w.split() for w in sponsorship['sponsorship']]"
   ]
  },
  {
   "cell_type": "code",
   "execution_count": 4,
   "metadata": {},
   "outputs": [],
   "source": [
    "sponsorship['cat'] = [e[0] for e in sponsorship_splited]"
   ]
  },
  {
   "cell_type": "code",
   "execution_count": 5,
   "metadata": {},
   "outputs": [],
   "source": [
    "sponsorship['sub_cat']=[e[1] if len(e)>1 else 0 for e in sponsorship_splited]"
   ]
  },
  {
   "cell_type": "code",
   "execution_count": 6,
   "metadata": {},
   "outputs": [
    {
     "data": {
      "text/html": [
       "<div>\n",
       "<style scoped>\n",
       "    .dataframe tbody tr th:only-of-type {\n",
       "        vertical-align: middle;\n",
       "    }\n",
       "\n",
       "    .dataframe tbody tr th {\n",
       "        vertical-align: top;\n",
       "    }\n",
       "\n",
       "    .dataframe thead th {\n",
       "        text-align: right;\n",
       "    }\n",
       "</style>\n",
       "<table border=\"1\" class=\"dataframe\">\n",
       "  <thead>\n",
       "    <tr style=\"text-align: right;\">\n",
       "      <th></th>\n",
       "      <th>sponsorship</th>\n",
       "      <th>cost</th>\n",
       "      <th>cat</th>\n",
       "      <th>sub_cat</th>\n",
       "    </tr>\n",
       "  </thead>\n",
       "  <tbody>\n",
       "    <tr>\n",
       "      <th>0</th>\n",
       "      <td>Paquetes</td>\n",
       "      <td>$27,900</td>\n",
       "      <td>Paquetes</td>\n",
       "      <td>0</td>\n",
       "    </tr>\n",
       "    <tr>\n",
       "      <th>1</th>\n",
       "      <td>Cintillos/Banners Principales</td>\n",
       "      <td>$1,500,000</td>\n",
       "      <td>Cintillos/Banners</td>\n",
       "      <td>Principales</td>\n",
       "    </tr>\n",
       "    <tr>\n",
       "      <th>2</th>\n",
       "      <td>Diamante Fijo</td>\n",
       "      <td>$500,000</td>\n",
       "      <td>Diamante</td>\n",
       "      <td>Fijo</td>\n",
       "    </tr>\n",
       "    <tr>\n",
       "      <th>3</th>\n",
       "      <td>Diamante Cintillo</td>\n",
       "      <td>$430,000</td>\n",
       "      <td>Diamante</td>\n",
       "      <td>Cintillo</td>\n",
       "    </tr>\n",
       "    <tr>\n",
       "      <th>4</th>\n",
       "      <td>Diamante Logo</td>\n",
       "      <td>$390,000</td>\n",
       "      <td>Diamante</td>\n",
       "      <td>Logo</td>\n",
       "    </tr>\n",
       "    <tr>\n",
       "      <th>5</th>\n",
       "      <td>Platino Cintillo</td>\n",
       "      <td>$250,000</td>\n",
       "      <td>Platino</td>\n",
       "      <td>Cintillo</td>\n",
       "    </tr>\n",
       "    <tr>\n",
       "      <th>6</th>\n",
       "      <td>Platino Fijo</td>\n",
       "      <td>$235,000</td>\n",
       "      <td>Platino</td>\n",
       "      <td>Fijo</td>\n",
       "    </tr>\n",
       "    <tr>\n",
       "      <th>7</th>\n",
       "      <td>Platino</td>\n",
       "      <td>$180,000</td>\n",
       "      <td>Platino</td>\n",
       "      <td>0</td>\n",
       "    </tr>\n",
       "    <tr>\n",
       "      <th>8</th>\n",
       "      <td>Oro Cintillo</td>\n",
       "      <td>$135,000</td>\n",
       "      <td>Oro</td>\n",
       "      <td>Cintillo</td>\n",
       "    </tr>\n",
       "    <tr>\n",
       "      <th>9</th>\n",
       "      <td>Oro Fijo</td>\n",
       "      <td>$120,000</td>\n",
       "      <td>Oro</td>\n",
       "      <td>Fijo</td>\n",
       "    </tr>\n",
       "    <tr>\n",
       "      <th>10</th>\n",
       "      <td>Oro</td>\n",
       "      <td>$85,000</td>\n",
       "      <td>Oro</td>\n",
       "      <td>0</td>\n",
       "    </tr>\n",
       "    <tr>\n",
       "      <th>11</th>\n",
       "      <td>Luxury</td>\n",
       "      <td>$62,000</td>\n",
       "      <td>Luxury</td>\n",
       "      <td>0</td>\n",
       "    </tr>\n",
       "    <tr>\n",
       "      <th>12</th>\n",
       "      <td>Plata Cintillo</td>\n",
       "      <td>$88,000</td>\n",
       "      <td>Plata</td>\n",
       "      <td>Cintillo</td>\n",
       "    </tr>\n",
       "    <tr>\n",
       "      <th>13</th>\n",
       "      <td>Plata Fijo</td>\n",
       "      <td>$65,000</td>\n",
       "      <td>Plata</td>\n",
       "      <td>Fijo</td>\n",
       "    </tr>\n",
       "    <tr>\n",
       "      <th>14</th>\n",
       "      <td>Plata</td>\n",
       "      <td>$42,000</td>\n",
       "      <td>Plata</td>\n",
       "      <td>0</td>\n",
       "    </tr>\n",
       "    <tr>\n",
       "      <th>15</th>\n",
       "      <td>Bronce Top</td>\n",
       "      <td>$55,000</td>\n",
       "      <td>Bronce</td>\n",
       "      <td>Top</td>\n",
       "    </tr>\n",
       "    <tr>\n",
       "      <th>16</th>\n",
       "      <td>Bronce Fijo</td>\n",
       "      <td>$35,000</td>\n",
       "      <td>Bronce</td>\n",
       "      <td>Fijo</td>\n",
       "    </tr>\n",
       "    <tr>\n",
       "      <th>17</th>\n",
       "      <td>Bronce Cintillo Standar</td>\n",
       "      <td>$32,000</td>\n",
       "      <td>Bronce</td>\n",
       "      <td>Cintillo</td>\n",
       "    </tr>\n",
       "    <tr>\n",
       "      <th>18</th>\n",
       "      <td>Bronce</td>\n",
       "      <td>$26,500</td>\n",
       "      <td>Bronce</td>\n",
       "      <td>0</td>\n",
       "    </tr>\n",
       "    <tr>\n",
       "      <th>19</th>\n",
       "      <td>Productos Hot Destacado Home</td>\n",
       "      <td>$35,000</td>\n",
       "      <td>Productos</td>\n",
       "      <td>Hot</td>\n",
       "    </tr>\n",
       "    <tr>\n",
       "      <th>20</th>\n",
       "      <td>Productos Hot Destacado Categoria TOP</td>\n",
       "      <td>$12,000</td>\n",
       "      <td>Productos</td>\n",
       "      <td>Hot</td>\n",
       "    </tr>\n",
       "    <tr>\n",
       "      <th>21</th>\n",
       "      <td>Productos Hot Destacado Categoria Standar</td>\n",
       "      <td>$9,500</td>\n",
       "      <td>Productos</td>\n",
       "      <td>Hot</td>\n",
       "    </tr>\n",
       "    <tr>\n",
       "      <th>22</th>\n",
       "      <td>Categorias TOP</td>\n",
       "      <td>$19,000</td>\n",
       "      <td>Categorias</td>\n",
       "      <td>TOP</td>\n",
       "    </tr>\n",
       "    <tr>\n",
       "      <th>23</th>\n",
       "      <td>Categorias Estandar</td>\n",
       "      <td>$15,000</td>\n",
       "      <td>Categorias</td>\n",
       "      <td>Estandar</td>\n",
       "    </tr>\n",
       "    <tr>\n",
       "      <th>24</th>\n",
       "      <td>Mega Ofertas TOP Platino</td>\n",
       "      <td>$280,000</td>\n",
       "      <td>Mega</td>\n",
       "      <td>Ofertas</td>\n",
       "    </tr>\n",
       "    <tr>\n",
       "      <th>25</th>\n",
       "      <td>Mega Ofertas TOP Oro</td>\n",
       "      <td>$150,000</td>\n",
       "      <td>Mega</td>\n",
       "      <td>Ofertas</td>\n",
       "    </tr>\n",
       "    <tr>\n",
       "      <th>26</th>\n",
       "      <td>Mega Ofertas TOP Plata</td>\n",
       "      <td>$120,000</td>\n",
       "      <td>Mega</td>\n",
       "      <td>Ofertas</td>\n",
       "    </tr>\n",
       "    <tr>\n",
       "      <th>27</th>\n",
       "      <td>Mega Ofertas TOP Bronce</td>\n",
       "      <td>$100,000</td>\n",
       "      <td>Mega</td>\n",
       "      <td>Ofertas</td>\n",
       "    </tr>\n",
       "    <tr>\n",
       "      <th>28</th>\n",
       "      <td>Mega Ofertas</td>\n",
       "      <td>$90,000</td>\n",
       "      <td>Mega</td>\n",
       "      <td>Ofertas</td>\n",
       "    </tr>\n",
       "    <tr>\n",
       "      <th>29</th>\n",
       "      <td>Cintillo Flash</td>\n",
       "      <td>$25,000</td>\n",
       "      <td>Cintillo</td>\n",
       "      <td>Flash</td>\n",
       "    </tr>\n",
       "  </tbody>\n",
       "</table>\n",
       "</div>"
      ],
      "text/plain": [
       "                                  sponsorship         cost                cat  \\\n",
       "0                                    Paquetes     $27,900            Paquetes   \n",
       "1               Cintillos/Banners Principales  $1,500,000   Cintillos/Banners   \n",
       "2                               Diamante Fijo    $500,000            Diamante   \n",
       "3                           Diamante Cintillo    $430,000            Diamante   \n",
       "4                               Diamante Logo    $390,000            Diamante   \n",
       "5                            Platino Cintillo    $250,000             Platino   \n",
       "6                                Platino Fijo    $235,000             Platino   \n",
       "7                                     Platino    $180,000             Platino   \n",
       "8                                Oro Cintillo    $135,000                 Oro   \n",
       "9                                    Oro Fijo    $120,000                 Oro   \n",
       "10                                        Oro     $85,000                 Oro   \n",
       "11                                     Luxury     $62,000              Luxury   \n",
       "12                             Plata Cintillo     $88,000               Plata   \n",
       "13                                 Plata Fijo     $65,000               Plata   \n",
       "14                                      Plata     $42,000               Plata   \n",
       "15                                 Bronce Top     $55,000              Bronce   \n",
       "16                                Bronce Fijo     $35,000              Bronce   \n",
       "17                    Bronce Cintillo Standar     $32,000              Bronce   \n",
       "18                                     Bronce     $26,500              Bronce   \n",
       "19               Productos Hot Destacado Home     $35,000           Productos   \n",
       "20      Productos Hot Destacado Categoria TOP     $12,000           Productos   \n",
       "21  Productos Hot Destacado Categoria Standar      $9,500           Productos   \n",
       "22                             Categorias TOP     $19,000          Categorias   \n",
       "23                        Categorias Estandar     $15,000          Categorias   \n",
       "24                   Mega Ofertas TOP Platino    $280,000                Mega   \n",
       "25                       Mega Ofertas TOP Oro    $150,000                Mega   \n",
       "26                     Mega Ofertas TOP Plata    $120,000                Mega   \n",
       "27                    Mega Ofertas TOP Bronce    $100,000                Mega   \n",
       "28                               Mega Ofertas     $90,000                Mega   \n",
       "29                             Cintillo Flash     $25,000            Cintillo   \n",
       "\n",
       "        sub_cat  \n",
       "0             0  \n",
       "1   Principales  \n",
       "2          Fijo  \n",
       "3      Cintillo  \n",
       "4          Logo  \n",
       "5      Cintillo  \n",
       "6          Fijo  \n",
       "7             0  \n",
       "8      Cintillo  \n",
       "9          Fijo  \n",
       "10            0  \n",
       "11            0  \n",
       "12     Cintillo  \n",
       "13         Fijo  \n",
       "14            0  \n",
       "15          Top  \n",
       "16         Fijo  \n",
       "17     Cintillo  \n",
       "18            0  \n",
       "19          Hot  \n",
       "20          Hot  \n",
       "21          Hot  \n",
       "22          TOP  \n",
       "23     Estandar  \n",
       "24      Ofertas  \n",
       "25      Ofertas  \n",
       "26      Ofertas  \n",
       "27      Ofertas  \n",
       "28      Ofertas  \n",
       "29        Flash  "
      ]
     },
     "execution_count": 6,
     "metadata": {},
     "output_type": "execute_result"
    }
   ],
   "source": [
    "sponsorship"
   ]
  },
  {
   "cell_type": "code",
   "execution_count": 7,
   "metadata": {},
   "outputs": [],
   "source": [
    "#convert start_date to DateTime format\n",
    "data['date'] = pd.to_datetime(\n",
    "    data['date'],\n",
    ")\n"
   ]
  },
  {
   "cell_type": "markdown",
   "metadata": {},
   "source": [
    "### Quick exploration (data-raw)"
   ]
  },
  {
   "cell_type": "code",
   "execution_count": null,
   "metadata": {},
   "outputs": [],
   "source": []
  },
  {
   "cell_type": "code",
   "execution_count": 9,
   "metadata": {},
   "outputs": [
    {
     "name": "stdout",
     "output_type": "stream",
     "text": [
      "<class 'pandas.core.frame.DataFrame'>\n",
      "RangeIndex: 86409 entries, 0 to 86408\n",
      "Data columns (total 9 columns):\n",
      " #   Column        Non-Null Count  Dtype         \n",
      "---  ------        --------------  -----         \n",
      " 0   date          86409 non-null  datetime64[ns]\n",
      " 1   section       86409 non-null  object        \n",
      " 2   brand         86362 non-null  object        \n",
      " 3   Category1     19397 non-null  object        \n",
      " 4   sponsorship   86409 non-null  object        \n",
      " 5   creativeType  86409 non-null  object        \n",
      " 6   impressions   86409 non-null  int64         \n",
      " 7   conversion    86409 non-null  int64         \n",
      " 8   menu          86409 non-null  object        \n",
      "dtypes: datetime64[ns](1), int64(2), object(6)\n",
      "memory usage: 5.9+ MB\n"
     ]
    }
   ],
   "source": [
    "data.info()"
   ]
  },
  {
   "cell_type": "code",
   "execution_count": 10,
   "metadata": {},
   "outputs": [
    {
     "data": {
      "text/html": [
       "<div>\n",
       "<style scoped>\n",
       "    .dataframe tbody tr th:only-of-type {\n",
       "        vertical-align: middle;\n",
       "    }\n",
       "\n",
       "    .dataframe tbody tr th {\n",
       "        vertical-align: top;\n",
       "    }\n",
       "\n",
       "    .dataframe thead th {\n",
       "        text-align: right;\n",
       "    }\n",
       "</style>\n",
       "<table border=\"1\" class=\"dataframe\">\n",
       "  <thead>\n",
       "    <tr style=\"text-align: right;\">\n",
       "      <th></th>\n",
       "      <th>date</th>\n",
       "      <th>section</th>\n",
       "      <th>brand</th>\n",
       "      <th>Category1</th>\n",
       "      <th>sponsorship</th>\n",
       "      <th>creativeType</th>\n",
       "      <th>impressions</th>\n",
       "      <th>conversion</th>\n",
       "      <th>menu</th>\n",
       "    </tr>\n",
       "  </thead>\n",
       "  <tbody>\n",
       "    <tr>\n",
       "      <th>0</th>\n",
       "      <td>2021-05-23</td>\n",
       "      <td>alimentos y bebidas</td>\n",
       "      <td>beerhouse</td>\n",
       "      <td>alimentos y bebidas</td>\n",
       "      <td>Oro</td>\n",
       "      <td>product</td>\n",
       "      <td>374</td>\n",
       "      <td>0</td>\n",
       "      <td>categoria</td>\n",
       "    </tr>\n",
       "    <tr>\n",
       "      <th>1</th>\n",
       "      <td>2021-05-23</td>\n",
       "      <td>alimentos y bebidas</td>\n",
       "      <td>bodegas alianza</td>\n",
       "      <td>alimentos y bebidas</td>\n",
       "      <td>Diamante Logo</td>\n",
       "      <td>product</td>\n",
       "      <td>831</td>\n",
       "      <td>0</td>\n",
       "      <td>categoria</td>\n",
       "    </tr>\n",
       "    <tr>\n",
       "      <th>2</th>\n",
       "      <td>2021-05-23</td>\n",
       "      <td>alimentos y bebidas</td>\n",
       "      <td>didi food</td>\n",
       "      <td>alimentos y bebidas</td>\n",
       "      <td>Bronce</td>\n",
       "      <td>product</td>\n",
       "      <td>399</td>\n",
       "      <td>17</td>\n",
       "      <td>categoria</td>\n",
       "    </tr>\n",
       "  </tbody>\n",
       "</table>\n",
       "</div>"
      ],
      "text/plain": [
       "        date              section            brand            Category1  \\\n",
       "0 2021-05-23  alimentos y bebidas        beerhouse  alimentos y bebidas   \n",
       "1 2021-05-23  alimentos y bebidas  bodegas alianza  alimentos y bebidas   \n",
       "2 2021-05-23  alimentos y bebidas        didi food  alimentos y bebidas   \n",
       "\n",
       "     sponsorship creativeType  impressions  conversion       menu  \n",
       "0            Oro      product          374           0  categoria  \n",
       "1  Diamante Logo      product          831           0  categoria  \n",
       "2         Bronce      product          399          17  categoria  "
      ]
     },
     "execution_count": 10,
     "metadata": {},
     "output_type": "execute_result"
    }
   ],
   "source": [
    "data.head(3)"
   ]
  },
  {
   "cell_type": "code",
   "execution_count": 11,
   "metadata": {},
   "outputs": [
    {
     "name": "stdout",
     "output_type": "stream",
     "text": [
      "644 \n",
      "\n"
     ]
    },
    {
     "data": {
      "text/plain": [
       "zenvia           799\n",
       "skydropx         799\n",
       "tienda nube      795\n",
       "mercado shops    793\n",
       "citibanamex      781\n",
       "                ... \n",
       "refacciones        8\n",
       "walker             8\n",
       "oxxo               8\n",
       "cinuk              7\n",
       "kingsmarket24      1\n",
       "Name: brand, Length: 644, dtype: int64"
      ]
     },
     "execution_count": 11,
     "metadata": {},
     "output_type": "execute_result"
    }
   ],
   "source": [
    "\n",
    "print(data['brand'].nunique(), '\\n')\n",
    "data['brand'].value_counts()"
   ]
  },
  {
   "cell_type": "code",
   "execution_count": 12,
   "metadata": {},
   "outputs": [
    {
     "name": "stdout",
     "output_type": "stream",
     "text": [
      "14 \n",
      "\n"
     ]
    },
    {
     "data": {
      "text/plain": [
       "ropa y calzado         3944\n",
       "electro y tecno        3674\n",
       "muebles y hogar        3557\n",
       "otros                  1991\n",
       "belleza                1561\n",
       "viajes                 1462\n",
       "deportes               1030\n",
       "alimentos y bebidas     774\n",
       "automotriz              578\n",
       "luxury                  355\n",
       "mascotas                276\n",
       "paquetes                113\n",
       "vuelos                   45\n",
       "cuidado de la vista      37\n",
       "Name: Category1, dtype: int64"
      ]
     },
     "execution_count": 12,
     "metadata": {},
     "output_type": "execute_result"
    }
   ],
   "source": [
    "print(data['Category1'].nunique(), '\\n')\n",
    "data['Category1'].value_counts()"
   ]
  },
  {
   "cell_type": "code",
   "execution_count": 13,
   "metadata": {},
   "outputs": [
    {
     "name": "stdout",
     "output_type": "stream",
     "text": [
      "24 \n",
      "\n"
     ]
    },
    {
     "data": {
      "text/plain": [
       "indice                    18353\n",
       "home                      17926\n",
       "productos hot              8419\n",
       "ropa y calzado             6526\n",
       "muebles y hogar            5788\n",
       "electro y tecno            5403\n",
       "belleza                    3175\n",
       "viajes                     2935\n",
       "alimentos y bebidas        2322\n",
       "mega ofertas               2200\n",
       "deportes                   2090\n",
       "ofertas hot                1763\n",
       "automotriz                 1675\n",
       "luxury                     1446\n",
       "mascotas                   1158\n",
       "ofertas flash              1148\n",
       "b2b                         843\n",
       "favoritos                   776\n",
       "noticia                     716\n",
       "servicios financieros       716\n",
       "noticias                    681\n",
       "registro                    206\n",
       "tipsempresas                142\n",
       "avante llantas y rines        2\n",
       "Name: section, dtype: int64"
      ]
     },
     "execution_count": 13,
     "metadata": {},
     "output_type": "execute_result"
    }
   ],
   "source": [
    "print(data['section'].nunique(), '\\n')\n",
    "data['section'].value_counts()"
   ]
  },
  {
   "cell_type": "code",
   "execution_count": 14,
   "metadata": {},
   "outputs": [
    {
     "name": "stdout",
     "output_type": "stream",
     "text": [
      "26 \n",
      "\n"
     ]
    },
    {
     "data": {
      "text/plain": [
       "Categorias TOP                               16229\n",
       "otros                                        14820\n",
       "Bronce                                       11307\n",
       "Plata                                         8143\n",
       "Categorias Estandar                           5529\n",
       "Platino                                       4772\n",
       "Oro                                           4585\n",
       "Diamante Logo                                 4215\n",
       "Paquetes                                      3080\n",
       "Diamante Fijo                                 2016\n",
       "Luxury                                        1904\n",
       "Oro Fijo                                      1825\n",
       "Plata Fijo                                    1804\n",
       "Platino Fijo                                  1803\n",
       "Cintillos/Banners Principales                 1213\n",
       "Bronce Fijo                                   1152\n",
       "Productos Hot Destacado Categoria Standar      399\n",
       "Productos Hot Destacado Home                   342\n",
       "Mega Ofertas                                   300\n",
       "Cintillo Flash                                 203\n",
       "Platino Cintillo                               156\n",
       "Diamante Cintillo                              145\n",
       "Plata Cintillo                                 144\n",
       "Oro Cintillo                                   142\n",
       "Bronce Cintillo Standar                        112\n",
       "Productos Hot Destacado Categoria TOP           69\n",
       "Name: sponsorship, dtype: int64"
      ]
     },
     "execution_count": 14,
     "metadata": {},
     "output_type": "execute_result"
    }
   ],
   "source": [
    "print(data['sponsorship'].nunique(), '\\n')\n",
    "data['sponsorship'].value_counts()"
   ]
  },
  {
   "cell_type": "code",
   "execution_count": 15,
   "metadata": {},
   "outputs": [
    {
     "name": "stdout",
     "output_type": "stream",
     "text": [
      "3 \n",
      "\n"
     ]
    },
    {
     "data": {
      "text/plain": [
       "logo        65481\n",
       "product     19851\n",
       "cintillo     1077\n",
       "Name: creativeType, dtype: int64"
      ]
     },
     "execution_count": 15,
     "metadata": {},
     "output_type": "execute_result"
    }
   ],
   "source": [
    "print(data['creativeType'].nunique(), '\\n')\n",
    "data['creativeType'].value_counts()"
   ]
  },
  {
   "cell_type": "code",
   "execution_count": 16,
   "metadata": {},
   "outputs": [
    {
     "name": "stdout",
     "output_type": "stream",
     "text": [
      "9 \n",
      "\n"
     ]
    },
    {
     "data": {
      "text/plain": [
       "categoria        35618\n",
       "indice           18353\n",
       "home             17926\n",
       "productos hot     8419\n",
       "mega ofertas      2200\n",
       "ofertas hot       1763\n",
       "ofertas flash     1148\n",
       "favoritos          776\n",
       "registro           206\n",
       "Name: menu, dtype: int64"
      ]
     },
     "execution_count": 16,
     "metadata": {},
     "output_type": "execute_result"
    }
   ],
   "source": [
    "print(data['menu'].nunique(), '\\n')\n",
    "data['menu'].value_counts()"
   ]
  },
  {
   "cell_type": "code",
   "execution_count": 17,
   "metadata": {},
   "outputs": [
    {
     "data": {
      "text/html": [
       "<div>\n",
       "<style scoped>\n",
       "    .dataframe tbody tr th:only-of-type {\n",
       "        vertical-align: middle;\n",
       "    }\n",
       "\n",
       "    .dataframe tbody tr th {\n",
       "        vertical-align: top;\n",
       "    }\n",
       "\n",
       "    .dataframe thead th {\n",
       "        text-align: right;\n",
       "    }\n",
       "</style>\n",
       "<table border=\"1\" class=\"dataframe\">\n",
       "  <thead>\n",
       "    <tr style=\"text-align: right;\">\n",
       "      <th></th>\n",
       "      <th>date</th>\n",
       "      <th>section</th>\n",
       "      <th>brand</th>\n",
       "      <th>Category1</th>\n",
       "      <th>sponsorship</th>\n",
       "      <th>creativeType</th>\n",
       "      <th>impressions</th>\n",
       "      <th>conversion</th>\n",
       "      <th>menu</th>\n",
       "    </tr>\n",
       "  </thead>\n",
       "  <tbody>\n",
       "    <tr>\n",
       "      <th>2</th>\n",
       "      <td>2021-05-23</td>\n",
       "      <td>alimentos y bebidas</td>\n",
       "      <td>didi food</td>\n",
       "      <td>alimentos y bebidas</td>\n",
       "      <td>Bronce</td>\n",
       "      <td>product</td>\n",
       "      <td>399</td>\n",
       "      <td>17</td>\n",
       "      <td>categoria</td>\n",
       "    </tr>\n",
       "    <tr>\n",
       "      <th>5</th>\n",
       "      <td>2021-05-23</td>\n",
       "      <td>alimentos y bebidas</td>\n",
       "      <td>grill house</td>\n",
       "      <td>alimentos y bebidas</td>\n",
       "      <td>Plata</td>\n",
       "      <td>product</td>\n",
       "      <td>241</td>\n",
       "      <td>2</td>\n",
       "      <td>categoria</td>\n",
       "    </tr>\n",
       "    <tr>\n",
       "      <th>6</th>\n",
       "      <td>2021-05-23</td>\n",
       "      <td>alimentos y bebidas</td>\n",
       "      <td>johnnie walker</td>\n",
       "      <td>alimentos y bebidas</td>\n",
       "      <td>Paquetes</td>\n",
       "      <td>product</td>\n",
       "      <td>1012</td>\n",
       "      <td>27</td>\n",
       "      <td>categoria</td>\n",
       "    </tr>\n",
       "    <tr>\n",
       "      <th>7</th>\n",
       "      <td>2021-05-23</td>\n",
       "      <td>alimentos y bebidas</td>\n",
       "      <td>justo</td>\n",
       "      <td>alimentos y bebidas</td>\n",
       "      <td>Diamante Logo</td>\n",
       "      <td>product</td>\n",
       "      <td>746</td>\n",
       "      <td>10</td>\n",
       "      <td>categoria</td>\n",
       "    </tr>\n",
       "    <tr>\n",
       "      <th>8</th>\n",
       "      <td>2021-05-23</td>\n",
       "      <td>alimentos y bebidas</td>\n",
       "      <td>la castellana</td>\n",
       "      <td>alimentos y bebidas</td>\n",
       "      <td>Categorias Estandar</td>\n",
       "      <td>product</td>\n",
       "      <td>148</td>\n",
       "      <td>2</td>\n",
       "      <td>categoria</td>\n",
       "    </tr>\n",
       "    <tr>\n",
       "      <th>...</th>\n",
       "      <td>...</td>\n",
       "      <td>...</td>\n",
       "      <td>...</td>\n",
       "      <td>...</td>\n",
       "      <td>...</td>\n",
       "      <td>...</td>\n",
       "      <td>...</td>\n",
       "      <td>...</td>\n",
       "      <td>...</td>\n",
       "    </tr>\n",
       "    <tr>\n",
       "      <th>85517</th>\n",
       "      <td>2021-06-10</td>\n",
       "      <td>viajes</td>\n",
       "      <td>mexico destinos</td>\n",
       "      <td>NaN</td>\n",
       "      <td>Categorias TOP</td>\n",
       "      <td>logo</td>\n",
       "      <td>73</td>\n",
       "      <td>1</td>\n",
       "      <td>categoria</td>\n",
       "    </tr>\n",
       "    <tr>\n",
       "      <th>85518</th>\n",
       "      <td>2021-06-10</td>\n",
       "      <td>viajes</td>\n",
       "      <td>samsonite</td>\n",
       "      <td>NaN</td>\n",
       "      <td>Oro</td>\n",
       "      <td>logo</td>\n",
       "      <td>73</td>\n",
       "      <td>1</td>\n",
       "      <td>categoria</td>\n",
       "    </tr>\n",
       "    <tr>\n",
       "      <th>85519</th>\n",
       "      <td>2021-06-10</td>\n",
       "      <td>viajes</td>\n",
       "      <td>aeromexico</td>\n",
       "      <td>NaN</td>\n",
       "      <td>Platino Fijo</td>\n",
       "      <td>logo</td>\n",
       "      <td>73</td>\n",
       "      <td>1</td>\n",
       "      <td>categoria</td>\n",
       "    </tr>\n",
       "    <tr>\n",
       "      <th>85520</th>\n",
       "      <td>2021-06-10</td>\n",
       "      <td>viajes</td>\n",
       "      <td>despegar</td>\n",
       "      <td>NaN</td>\n",
       "      <td>Platino</td>\n",
       "      <td>logo</td>\n",
       "      <td>73</td>\n",
       "      <td>1</td>\n",
       "      <td>categoria</td>\n",
       "    </tr>\n",
       "    <tr>\n",
       "      <th>85521</th>\n",
       "      <td>2021-06-10</td>\n",
       "      <td>viajes</td>\n",
       "      <td>ya vas</td>\n",
       "      <td>NaN</td>\n",
       "      <td>Plata Fijo</td>\n",
       "      <td>cintillo</td>\n",
       "      <td>73</td>\n",
       "      <td>1</td>\n",
       "      <td>categoria</td>\n",
       "    </tr>\n",
       "  </tbody>\n",
       "</table>\n",
       "<p>50298 rows × 9 columns</p>\n",
       "</div>"
      ],
      "text/plain": [
       "            date              section            brand            Category1  \\\n",
       "2     2021-05-23  alimentos y bebidas        didi food  alimentos y bebidas   \n",
       "5     2021-05-23  alimentos y bebidas      grill house  alimentos y bebidas   \n",
       "6     2021-05-23  alimentos y bebidas   johnnie walker  alimentos y bebidas   \n",
       "7     2021-05-23  alimentos y bebidas            justo  alimentos y bebidas   \n",
       "8     2021-05-23  alimentos y bebidas    la castellana  alimentos y bebidas   \n",
       "...          ...                  ...              ...                  ...   \n",
       "85517 2021-06-10               viajes  mexico destinos                  NaN   \n",
       "85518 2021-06-10               viajes        samsonite                  NaN   \n",
       "85519 2021-06-10               viajes       aeromexico                  NaN   \n",
       "85520 2021-06-10               viajes         despegar                  NaN   \n",
       "85521 2021-06-10               viajes           ya vas                  NaN   \n",
       "\n",
       "               sponsorship creativeType  impressions  conversion       menu  \n",
       "2                   Bronce      product          399          17  categoria  \n",
       "5                    Plata      product          241           2  categoria  \n",
       "6                 Paquetes      product         1012          27  categoria  \n",
       "7            Diamante Logo      product          746          10  categoria  \n",
       "8      Categorias Estandar      product          148           2  categoria  \n",
       "...                    ...          ...          ...         ...        ...  \n",
       "85517       Categorias TOP         logo           73           1  categoria  \n",
       "85518                  Oro         logo           73           1  categoria  \n",
       "85519         Platino Fijo         logo           73           1  categoria  \n",
       "85520              Platino         logo           73           1  categoria  \n",
       "85521           Plata Fijo     cintillo           73           1  categoria  \n",
       "\n",
       "[50298 rows x 9 columns]"
      ]
     },
     "execution_count": 17,
     "metadata": {},
     "output_type": "execute_result"
    }
   ],
   "source": [
    "data[data['conversion'] > 0]"
   ]
  },
  {
   "cell_type": "code",
   "execution_count": 18,
   "metadata": {},
   "outputs": [],
   "source": [
    "df = pd.DataFrame(data[['date','brand','creativeType','impressions', 'conversion']])"
   ]
  },
  {
   "cell_type": "code",
   "execution_count": 20,
   "metadata": {},
   "outputs": [
    {
     "data": {
      "text/plain": [
       "<pandas.core.groupby.generic.DataFrameGroupBy object at 0x7fd0e5b66f40>"
      ]
     },
     "execution_count": 20,
     "metadata": {},
     "output_type": "execute_result"
    }
   ],
   "source": [
    "df.groupby(\n",
    "    by='brand',\n",
    ")"
   ]
  },
  {
   "cell_type": "code",
   "execution_count": null,
   "metadata": {},
   "outputs": [],
   "source": []
  },
  {
   "cell_type": "code",
   "execution_count": 19,
   "metadata": {},
   "outputs": [
    {
     "ename": "NameError",
     "evalue": "name 'DataFrame' is not defined",
     "output_type": "error",
     "traceback": [
      "\u001b[0;31m---------------------------------------------------------------------------\u001b[0m",
      "\u001b[0;31mNameError\u001b[0m                                 Traceback (most recent call last)",
      "Input \u001b[0;32mIn [19]\u001b[0m, in \u001b[0;36m<cell line: 1>\u001b[0;34m()\u001b[0m\n\u001b[0;32m----> 1\u001b[0m \u001b[43mDataFrame\u001b[49m\u001b[38;5;241m.\u001b[39mgroupby(\n\u001b[1;32m      2\u001b[0m     by\u001b[38;5;241m=\u001b[39m\u001b[38;5;28;01mNone\u001b[39;00m, \n\u001b[1;32m      3\u001b[0m     axis\u001b[38;5;241m=\u001b[39m\u001b[38;5;241m0\u001b[39m, \n\u001b[1;32m      4\u001b[0m     level\u001b[38;5;241m=\u001b[39m\u001b[38;5;28;01mNone\u001b[39;00m, as_index\u001b[38;5;241m=\u001b[39m\u001b[38;5;28;01mTrue\u001b[39;00m, sort\u001b[38;5;241m=\u001b[39m\u001b[38;5;28;01mTrue\u001b[39;00m, group_keys\u001b[38;5;241m=\u001b[39m\u001b[38;5;28;01mTrue\u001b[39;00m, squeeze\u001b[38;5;241m=\u001b[39mNoDefault\u001b[38;5;241m.\u001b[39mno_default, observed\u001b[38;5;241m=\u001b[39m\u001b[38;5;28;01mFalse\u001b[39;00m,\n\u001b[1;32m      5\u001b[0m                   dropna\u001b[38;5;241m=\u001b[39m\u001b[38;5;28;01mTrue\u001b[39;00m)\n",
      "\u001b[0;31mNameError\u001b[0m: name 'DataFrame' is not defined"
     ]
    }
   ],
   "source": [
    "DataFrame.groupby(\n",
    "    by=None, \n",
    "    axis=0, \n",
    "    level=None, \n",
    "    as_index=True, \n",
    "    sort=True, \n",
    "    group_keys=True, \n",
    "    squeeze=NoDefault.no_default, \n",
    "    observed=False,\n",
    "    dropna=True)"
   ]
  },
  {
   "cell_type": "code",
   "execution_count": null,
   "metadata": {},
   "outputs": [],
   "source": []
  }
 ],
 "metadata": {
  "kernelspec": {
   "display_name": "epad",
   "language": "python",
   "name": "epad"
  },
  "language_info": {
   "codemirror_mode": {
    "name": "ipython",
    "version": 3
   },
   "file_extension": ".py",
   "mimetype": "text/x-python",
   "name": "python",
   "nbconvert_exporter": "python",
   "pygments_lexer": "ipython3",
   "version": "3.8.10"
  }
 },
 "nbformat": 4,
 "nbformat_minor": 4
}
